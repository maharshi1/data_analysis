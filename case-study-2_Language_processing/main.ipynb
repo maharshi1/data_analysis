{
 "cells": [
  {
   "cell_type": "code",
   "execution_count": 2,
   "metadata": {},
   "outputs": [
    {
     "name": "stdout",
     "output_type": "stream",
     "text": [
      "books/\n",
      "  Portuguese/\n",
      "    Queir¢s/\n",
      "      A correspondància de Fradique Mendes.txt\n",
      "      Os Maias.txt\n",
      "      A Illustre Casa de Ramires.txt\n",
      "      O Mandarim.txt\n",
      "      Cartas de Inglaterra.txt\n",
      "      A Rel°quia.txt\n",
      "      A Cidade e as Serras.txt\n",
      "      O crime do padre Amaro.txt\n",
      "      O Primo Bazilio.txt\n",
      "    shakespeare/\n",
      "      Hamlet.txt\n",
      "    branco/\n",
      "      Estrellas Prop°cias.txt\n",
      "      Scenas Contemporaneas.txt\n",
      "      A Queda d'um Anjo.txt\n",
      "      Estrellas Funestas.txt\n",
      "      O Olho de Vidro.txt\n",
      "      Annos de Prosa.txt\n",
      "      Amor de Salvação.txt\n",
      "      O Regicida.txt\n",
      "      A Filha do Arcediago.txt\n",
      "      Agulha em Palheiro.txt\n",
      "      Lagrimas Abenáoadas.txt\n",
      "      O que fazem mulheres.txt\n",
      "      Livro de Consolação.txt\n",
      "      A Neta do Arcediago.txt\n",
      "      Carlota Angela.txt\n",
      "      Amor de Perdição.txt\n",
      "    dinis/\n",
      "      A Morgadinha dos Cannaviaes.txt\n",
      "      Os fidalgos da Casa Mourisca.txt\n",
      "      Uma fam°lia ingleza.txt\n",
      "  German/\n",
      "    raimund/\n",
      "      Die unheilbringende Krone.txt\n",
      "      Moisasurs Zauberfluch.txt\n",
      "      Das MÑdchen aus der Feenwelt.txt\n",
      "      Der Barometermacher auf der Zauberinsel.txt\n",
      "      Die gefesselte Phantasie.txt\n",
      "      Der Alpenkînig und der Menschenfeind.txt\n",
      "      Der Verschwender.txt\n",
      "      Der Diamant des Geisterkînigs.txt\n",
      "    lessing/\n",
      "      hamburgische dramaturgie.txt\n",
      "      der junge gelehrte.txt\n",
      "      miss sara sampson.txt\n",
      "      minna von barnhelm.txt\n",
      "      die juden.txt\n",
      "      emilia galotti.txt\n",
      "      philotas.txt\n",
      "      der freigeist.txt\n",
      "    schiller/\n",
      "      Die Verschwîrung des Fiesco zu Genua.txt\n",
      "      Kabale und Liebe.txt\n",
      "      Die Jungfrau von Orleans.txt\n",
      "      Die Huldigung der KÅnste.txt\n",
      "      Wallensteins Tod.txt\n",
      "      Die Piccolomini.txt\n",
      "      Der Parasit, oder die Kunst, sein GlÅck zu machen.txt\n",
      "      Turandot, Prinzessin von China.txt\n",
      "      Der Neffe als Onkel.txt\n",
      "      die braut von messina.txt\n",
      "      Wallensteins Lager.txt\n",
      "    shakespeare/\n",
      "      Othello.txt\n",
      "      Hamlet.txt\n",
      "      Romeo und Julia.txt\n",
      "      Ein Sommernachtstraum.txt\n",
      "      Richard III.txt\n",
      "      Macbeth.txt\n",
      "      Der Kaufmann von Venedig.txt\n",
      "  French/\n",
      "    chevalier/\n",
      "      Les derniers Iroquois.txt\n",
      "      La fille du pirate.txt\n",
      "      La capitaine.txt\n",
      "      L'åle de sable.txt\n",
      "      Le chasseur noir.txt\n",
      "      La fille des indiens rouges.txt\n",
      "      L'enfer et le paradis de l'autre monde.txt\n",
      "    sand/\n",
      "      Pauline.txt\n",
      "      La Marquise.txt\n",
      "      cora.txt\n",
      "      Le poâme de Myrza.txt\n",
      "      Oeuvres illustrÇes de George Sand.txt\n",
      "      Jacques le fataliste et son maåtre.txt\n",
      "      Mattea.txt\n",
      "      L' Orco.txt\n",
      "      Le Piccinino.txt\n",
      "      La Coupe; Lupo Liverani; Le Toast; Garnier; Le Contrebandier; La Ràverie Ö Paris.txt\n",
      "      Metella.txt\n",
      "    diderot/\n",
      "      Ceci n'est pas un conte.txt\n",
      "      L'oiseau blanc.txt\n",
      "      Regrets sur ma vieille robe de chambre.txt\n",
      "      Entretien d'un päre avec ses enfants.txt\n",
      "      Les deux amis de Bourbonne.txt\n",
      "    de Maupassant/\n",
      "      La Maison Tellier.txt\n",
      "      Œuvres complètes de Guy de Maupassant.txt\n",
      "      Claire de Lune.txt\n",
      "      Contes de la Becasse.txt\n",
      "      L'inutile beautÇ.txt\n",
      "      La Main Gauche.txt\n",
      "      Le Horla.txt\n",
      "      Boule de Suif.txt\n",
      "      La petite roque.txt\n",
      "  English/\n",
      "    shakespeare/\n",
      "      Othello.txt\n",
      "      Hamlet.txt\n",
      "      A Midsummer Night's Dream.txt\n",
      "      Romeo and Juliet.txt\n",
      "      Richard III.txt\n",
      "      Macbeth.txt\n",
      "      The Merchant of Venice.txt\n"
     ]
    }
   ],
   "source": [
    "# Lets get an overview of how many languages / authors / books are we working with.\n",
    "import os\n",
    "\n",
    "bookspath = \"books\"\n",
    "for root, dirs, files in os.walk(bookspath):\n",
    "    level = root.replace(bookspath, \"\").count(os.sep)\n",
    "    indent = \" \" * 2 * (level)\n",
    "    print(\"{}{}/\".format(indent, os.path.basename(root)))\n",
    "    subindent = \" \" * 2 * (level + 1)\n",
    "    for f in files:\n",
    "        print(\"{}{}\".format(subindent, f))"
   ]
  },
  {
   "cell_type": "code",
   "execution_count": 4,
   "metadata": {},
   "outputs": [],
   "source": [
    "import re\n",
    "from collections import Counter\n",
    "\n",
    "def readbook(path):\n",
    "    '''\n",
    "    input : str(path)\n",
    "    Reads books; cleans them and returns for futher processing.\n",
    "    Returns str() of the book.\n",
    "    '''\n",
    "    textbook = \"\"\n",
    "    with open(path, \"r\", encoding=\"utf8\") as f:\n",
    "        textbook = f.read()\n",
    "    # cleaning the book of special characters\n",
    "    textbook = textbook.lower()\n",
    "    textbook = re.sub(\n",
    "        r\"[0-9]|\\n|\\r|\\ufeff|\\.|,|:|;|\\*|/|!|'|\\\"|#|=|-|\\?|!\",\n",
    "        \"\",\n",
    "        textbook\n",
    "    )\n",
    "    textbook = textbook.replace(\"(\", \"\") \\\n",
    "            .replace(\")\", \"\") \\\n",
    "            .replace(\"<\", \"\") \\\n",
    "            .replace(\">\", \"\") \\\n",
    "            .replace(\"[\", \"\") \\\n",
    "            .replace(\"]\", \"\") \\\n",
    "            .replace(\"{\", \"\") \\\n",
    "            .replace(\"}\", \"\")\n",
    "    return textbook\n",
    "\n",
    "def wordcounter(book):\n",
    "    '''\n",
    "    input : str(bookpath)\n",
    "    Calls the readbook() and then further processes them into total word count & unique word count.\n",
    "    Returs a tuple of (totalwordscount, uniquewordscount).\n",
    "    '''\n",
    "    textbook = readbook(book)\n",
    "    words = textbook.split(\" \")\n",
    "    wordscount = Counter(words)\n",
    "    return (sum(wordscount.values()), len(wordscount))"
   ]
  },
  {
   "cell_type": "code",
   "execution_count": 67,
   "metadata": {},
   "outputs": [
    {
     "data": {
      "text/html": [
       "<div>\n",
       "<style scoped>\n",
       "    .dataframe tbody tr th:only-of-type {\n",
       "        vertical-align: middle;\n",
       "    }\n",
       "\n",
       "    .dataframe tbody tr th {\n",
       "        vertical-align: top;\n",
       "    }\n",
       "\n",
       "    .dataframe thead th {\n",
       "        text-align: right;\n",
       "    }\n",
       "</style>\n",
       "<table border=\"1\" class=\"dataframe\">\n",
       "  <thead>\n",
       "    <tr style=\"text-align: right;\">\n",
       "      <th></th>\n",
       "      <th>language</th>\n",
       "      <th>author</th>\n",
       "      <th>title</th>\n",
       "      <th>total_words</th>\n",
       "      <th>unique_words</th>\n",
       "    </tr>\n",
       "  </thead>\n",
       "  <tbody>\n",
       "  </tbody>\n",
       "</table>\n",
       "</div>"
      ],
      "text/plain": [
       "Empty DataFrame\n",
       "Columns: [language, author, title, total_words, unique_words]\n",
       "Index: []"
      ]
     },
     "execution_count": 67,
     "metadata": {},
     "output_type": "execute_result"
    }
   ],
   "source": [
    "import pandas as pd\n",
    "\n",
    "statistics = pd.DataFrame(columns=(\"language\", \"author\", \"title\", \"total_words\", \"unique_words\"))\n",
    "statistics"
   ]
  },
  {
   "cell_type": "code",
   "execution_count": 68,
   "metadata": {},
   "outputs": [
    {
     "data": {
      "text/html": [
       "<div>\n",
       "<style scoped>\n",
       "    .dataframe tbody tr th:only-of-type {\n",
       "        vertical-align: middle;\n",
       "    }\n",
       "\n",
       "    .dataframe tbody tr th {\n",
       "        vertical-align: top;\n",
       "    }\n",
       "\n",
       "    .dataframe thead th {\n",
       "        text-align: right;\n",
       "    }\n",
       "</style>\n",
       "<table border=\"1\" class=\"dataframe\">\n",
       "  <thead>\n",
       "    <tr style=\"text-align: right;\">\n",
       "      <th></th>\n",
       "      <th>language</th>\n",
       "      <th>author</th>\n",
       "      <th>title</th>\n",
       "      <th>total_words</th>\n",
       "      <th>unique_words</th>\n",
       "    </tr>\n",
       "  </thead>\n",
       "  <tbody>\n",
       "    <tr>\n",
       "      <th>97</th>\n",
       "      <td>English</td>\n",
       "      <td>Shakespeare</td>\n",
       "      <td>A Midsummer Night's Dream</td>\n",
       "      <td>16103</td>\n",
       "      <td>4340</td>\n",
       "    </tr>\n",
       "    <tr>\n",
       "      <th>98</th>\n",
       "      <td>English</td>\n",
       "      <td>Shakespeare</td>\n",
       "      <td>Romeo and Juliet</td>\n",
       "      <td>40776</td>\n",
       "      <td>4444</td>\n",
       "    </tr>\n",
       "    <tr>\n",
       "      <th>99</th>\n",
       "      <td>English</td>\n",
       "      <td>Shakespeare</td>\n",
       "      <td>Richard III</td>\n",
       "      <td>48315</td>\n",
       "      <td>4844</td>\n",
       "    </tr>\n",
       "    <tr>\n",
       "      <th>100</th>\n",
       "      <td>English</td>\n",
       "      <td>Shakespeare</td>\n",
       "      <td>Macbeth</td>\n",
       "      <td>16874</td>\n",
       "      <td>4775</td>\n",
       "    </tr>\n",
       "    <tr>\n",
       "      <th>101</th>\n",
       "      <td>English</td>\n",
       "      <td>Shakespeare</td>\n",
       "      <td>The Merchant of Venice</td>\n",
       "      <td>20949</td>\n",
       "      <td>4978</td>\n",
       "    </tr>\n",
       "  </tbody>\n",
       "</table>\n",
       "</div>"
      ],
      "text/plain": [
       "    language       author                      title total_words unique_words\n",
       "97   English  Shakespeare  A Midsummer Night's Dream       16103         4340\n",
       "98   English  Shakespeare           Romeo and Juliet       40776         4444\n",
       "99   English  Shakespeare                Richard III       48315         4844\n",
       "100  English  Shakespeare                    Macbeth       16874         4775\n",
       "101  English  Shakespeare     The Merchant of Venice       20949         4978"
      ]
     },
     "execution_count": 68,
     "metadata": {},
     "output_type": "execute_result"
    }
   ],
   "source": [
    "for root, dirs, files in os.walk(bookspath):\n",
    "    for f in files:\n",
    "        total_words, unique_words = wordcounter(root + os.sep + f)\n",
    "        la = root.split(os.sep)\n",
    "        statistics = statistics.append(\n",
    "            {\n",
    "                'language': la[1],\n",
    "                'author': la[2].capitalize(),\n",
    "                'title': f.replace(\".txt\", \"\"),\n",
    "                'total_words': int(total_words),\n",
    "                'unique_words': int(unique_words)\n",
    "            },\n",
    "            ignore_index=True\n",
    "        )\n",
    "statistics.tail()"
   ]
  },
  {
   "cell_type": "code",
   "execution_count": 81,
   "metadata": {},
   "outputs": [
    {
     "data": {
      "text/plain": [
       "(102, 5)"
      ]
     },
     "execution_count": 81,
     "metadata": {},
     "output_type": "execute_result"
    }
   ],
   "source": [
    "statistics.shape"
   ]
  },
  {
   "cell_type": "code",
   "execution_count": 74,
   "metadata": {},
   "outputs": [
    {
     "data": {
      "image/png": "[encoded data removed]",
      "text/plain": [
       "<Figure size 432x288 with 1 Axes>"
      ]
     },
     "metadata": {},
     "output_type": "display_data"
    }
   ],
   "source": [
    "import matplotlib.pyplot as plt\n",
    "\n",
    "plt.plot(statistics.total_words, statistics.unique_words, \"bo-\")\n",
    "plt.show()"
   ]
  },
  {
   "cell_type": "code",
   "execution_count": 75,
   "metadata": {},
   "outputs": [
    {
     "data": {
      "image/png": "[encoded data removed]",
      "text/plain": [
       "<Figure size 432x288 with 1 Axes>"
      ]
     },
     "metadata": {},
     "output_type": "display_data"
    }
   ],
   "source": [
    "plt.loglog(statistics.total_words, statistics.unique_words, \"go\")\n",
    "plt.show()"
   ]
  },
  {
   "cell_type": "code",
   "execution_count": 76,
   "metadata": {},
   "outputs": [
    {
     "data": {
      "text/plain": [
       "language        object\n",
       "author          object\n",
       "title           object\n",
       "total_words      int64\n",
       "unique_words     int64\n",
       "dtype: object"
      ]
     },
     "execution_count": 76,
     "metadata": {},
     "output_type": "execute_result"
    }
   ],
   "source": [
    "statistics[\"unique_words\"] = statistics[\"unique_words\"].astype('int64')\n",
    "statistics[\"total_words\"] = statistics[\"total_words\"].astype('int64')\n",
    "statistics.dtypes"
   ]
  },
  {
   "cell_type": "code",
   "execution_count": 77,
   "metadata": {},
   "outputs": [
    {
     "data": {
      "text/plain": [
       "language        Portuguese\n",
       "author             Queir¢s\n",
       "title             Os Maias\n",
       "total_words         195771\n",
       "unique_words         39008\n",
       "Name: 1, dtype: object"
      ]
     },
     "execution_count": 77,
     "metadata": {},
     "output_type": "execute_result"
    }
   ],
   "source": [
    "statistics.loc[statistics[\"unique_words\"].idxmax()] # maximum number of unique words"
   ]
  },
  {
   "cell_type": "code",
   "execution_count": 78,
   "metadata": {},
   "outputs": [
    {
     "data": {
      "text/plain": [
       "language                           German\n",
       "author                           Schiller\n",
       "title           Die Huldigung der KÅnste\n",
       "total_words                          3919\n",
       "unique_words                         1642\n",
       "Name: 48, dtype: object"
      ]
     },
     "execution_count": 78,
     "metadata": {},
     "output_type": "execute_result"
    }
   ],
   "source": [
    "statistics.loc[statistics[\"unique_words\"].idxmin()] # minimum number of unique words"
   ]
  },
  {
   "cell_type": "code",
   "execution_count": 79,
   "metadata": {},
   "outputs": [
    {
     "data": {
      "text/plain": [
       "array(['Portuguese', 'German', 'French', 'English'], dtype=object)"
      ]
     },
     "execution_count": 79,
     "metadata": {},
     "output_type": "execute_result"
    }
   ],
   "source": [
    "statistics.language.unique()"
   ]
  },
  {
   "cell_type": "code",
   "execution_count": 80,
   "metadata": {},
   "outputs": [
    {
     "data": {
      "image/png": "[encoded data removed]",
      "text/plain": [
       "<Figure size 1080x1080 with 1 Axes>"
      ]
     },
     "metadata": {},
     "output_type": "display_data"
    }
   ],
   "source": [
    "# Differenciate between languages\n",
    "plt.figure(figsize=(15,15))\n",
    "subset = statistics[statistics.language == \"English\"]\n",
    "plt.loglog(subset.total_words, subset.unique_words, \"o\", label=\"English\", color=\"crimson\")\n",
    "subset = statistics[statistics.language == \"French\"]\n",
    "plt.loglog(subset.total_words, subset.unique_words, \"o\", label=\"French\", color=\"forestgreen\")\n",
    "subset = statistics[statistics.language == \"German\"]\n",
    "plt.loglog(subset.total_words, subset.unique_words, \"o\", label=\"German\", color=\"orange\")\n",
    "subset = statistics[statistics.language == \"Portuguese\"]\n",
    "plt.loglog(subset.total_words, subset.unique_words, \"o\", label=\"Portuguese\", color=\"blueviolet\")\n",
    "plt.legend()\n",
    "plt.xlabel(\"$Total Words$\")\n",
    "plt.ylabel(\"$Unique Words$\")\n",
    "plt.savefig(\"analysis.pdf\")\n",
    "plt.show()"
   ]
  }
 ],
 "metadata": {
  "kernelspec": {
   "display_name": "Python 3",
   "language": "python",
   "name": "python3"
  },
  "language_info": {
   "codemirror_mode": {
    "name": "ipython",
    "version": 3
   },
   "file_extension": ".py",
   "mimetype": "text/x-python",
   "name": "python",
   "nbconvert_exporter": "python",
   "pygments_lexer": "ipython3",
   "version": "3.6.5"
  }
 },
 "nbformat": 4,
 "nbformat_minor": 2
}
