{
 "cells": [
  {
   "cell_type": "markdown",
   "metadata": {},
   "source": [
    "<p>Statistical learning refers to a collection\n",
    "of mathematical and computation tools to understand data.\n",
    "In what is often called supervised learning,\n",
    "the goal is to estimate or predict an output based on one or more inputs.\n",
    "The inputs have many names, like predictors, independent variables,\n",
    "features, and variables being called common.\n",
    "The output or outputs are often called response variables,\n",
    "or dependent variables.\n",
    "If the response is quantitative-- say, a number that measures weight or height,\n",
    "we call these problems regression problems.\n",
    "If the response is qualitative-- say, yes or no, or blue or green,\n",
    "we call these problems classification problems.\n",
    "This case study deals with one specific approach to classification. <br>\n",
    "The goal is to set up a classifier such that when\n",
    "it's presented with a new observation whose category is not known,\n",
    "it will attempt to assign that observation to a category, or a class,\n",
    "based on the observations for which it does know the true category.\n",
    "This specific method is known as the k-Nearest Neighbors classifier,\n",
    "or kNN for short. <br>\n",
    "Given a positive integer k, say 5, and a new data point,\n",
    "it first identifies those k points in the data that are nearest to the point\n",
    "and classifies the new data point as belonging to the most common class\n",
    "among those k neighbors.</p>"
   ]
  },
  {
   "cell_type": "code",
   "execution_count": 12,
   "metadata": {},
   "outputs": [
    {
     "data": {
      "text/plain": [
       "5.656854249492381"
      ]
     },
     "execution_count": 12,
     "metadata": {},
     "output_type": "execute_result"
    }
   ],
   "source": [
    "import numpy as np\n",
    "\n",
    "# Euclidean distance between two points expressed as NumPy arrays\n",
    "point1 = np.array([1,1])\n",
    "point2 = np.array([5,5])\n",
    "\n",
    "np.sqrt(np.sum(np.power(point2 - point1, 2)))"
   ]
  },
  {
   "cell_type": "code",
   "execution_count": 13,
   "metadata": {},
   "outputs": [],
   "source": [
    "def distance(p1, p2):\n",
    "    '''\n",
    "    input : np.array(), np.array\n",
    "    Finds the distance between points p1 and p2.\n",
    "    Returns distance.\n",
    "    '''\n",
    "    return np.sqrt(np.sum(np.power(p2 - p1, 2)))"
   ]
  },
  {
   "cell_type": "code",
   "execution_count": 25,
   "metadata": {},
   "outputs": [
    {
     "data": {
      "text/plain": [
       "1"
      ]
     },
     "execution_count": 25,
     "metadata": {},
     "output_type": "execute_result"
    }
   ],
   "source": [
    "from collections import Counter\n",
    "\n",
    "votes = [1,2,3,1,2,5]\n",
    "# Majority Vote\n",
    "def majority_vote_1(votes):\n",
    "    return Counter(votes)\n",
    "r = majority_vote(votes)\n",
    "max(r, key=r.get)"
   ]
  },
  {
   "cell_type": "code",
   "execution_count": 32,
   "metadata": {},
   "outputs": [
    {
     "data": {
      "text/plain": [
       "(array([1.]), array([2.]))"
      ]
     },
     "execution_count": 32,
     "metadata": {},
     "output_type": "execute_result"
    }
   ],
   "source": [
    "import scipy.stats as sp\n",
    "\n",
    "def majority_vote_2(votes):\n",
    "    mode, count = sp.mstats.mode(votes)\n",
    "    return mode, count\n",
    "majority_vote_2(votes)"
   ]
  },
  {
   "cell_type": "code",
   "execution_count": 70,
   "metadata": {},
   "outputs": [
    {
     "name": "stdout",
     "output_type": "stream",
     "text": [
      "2\n",
      "1\n"
     ]
    }
   ],
   "source": [
    "import random\n",
    "\n",
    "# Will use this method as it can handle multiple max votes and return a random result\n",
    "def majority_vote(votes):\n",
    "    votecounter = Counter(votes)\n",
    "    maxvote = max(votecounter.values())\n",
    "    winners = [vote for vote, count in votecounter.items() if count == maxvote]\n",
    "    return random.choice(winners)\n",
    "print(majority_vote(votes))\n",
    "print(majority_vote(votes))"
   ]
  },
  {
   "cell_type": "code",
   "execution_count": 89,
   "metadata": {},
   "outputs": [
    {
     "data": {
      "image/png": "[encoded data removed]",
      "text/plain": [
       "<Figure size 432x288 with 1 Axes>"
      ]
     },
     "metadata": {},
     "output_type": "display_data"
    }
   ],
   "source": [
    "import matplotlib.pyplot as plt\n",
    "\n",
    "points = np.array([[1,1],[1,2],[1,3],[2,1],[2,2],[2,3],[3,1],[3,2],[3,3]])\n",
    "p = np.array([2.5,2])\n",
    "\n",
    "plt.plot(points[:,0], points[:,1], \"bo\")\n",
    "plt.plot(p[0], p[1], \"ro\")\n",
    "plt.axis([.5, 3.5, .5 ,3.5])\n",
    "plt.show()"
   ]
  },
  {
   "cell_type": "code",
   "execution_count": 118,
   "metadata": {},
   "outputs": [
    {
     "data": {
      "text/plain": [
       "array([1.80277564, 1.5       , 1.80277564, 1.11803399, 0.5       ,\n",
       "       1.11803399, 1.11803399, 0.5       , 1.11803399])"
      ]
     },
     "execution_count": 118,
     "metadata": {},
     "output_type": "execute_result"
    }
   ],
   "source": [
    "# calculate the distance between a point p and each of the points in array points.\n",
    "distances = np.array([distance(p, points[i]) for i in range(points.shape[0])])\n",
    "distances"
   ]
  },
  {
   "cell_type": "code",
   "execution_count": 113,
   "metadata": {},
   "outputs": [
    {
     "data": {
      "text/plain": [
       "array([4, 7, 3, 5, 6, 8, 1, 0, 2])"
      ]
     },
     "execution_count": 113,
     "metadata": {},
     "output_type": "execute_result"
    }
   ],
   "source": [
    "# Perform an indirect sort along the given axis using the algorithm specified by the kind keyword.\n",
    "# It returns an array of indices of the same shape as a that index data along the given axis in sorted order.\n",
    "ind = np.argsort(distances)\n",
    "ind"
   ]
  },
  {
   "cell_type": "code",
   "execution_count": 115,
   "metadata": {},
   "outputs": [
    {
     "data": {
      "text/plain": [
       "array([0.5       , 0.5       , 1.11803399, 1.11803399, 1.11803399,\n",
       "       1.11803399, 1.5       , 1.80277564, 1.80277564])"
      ]
     },
     "execution_count": 115,
     "metadata": {},
     "output_type": "execute_result"
    }
   ],
   "source": [
    "distances[ind]"
   ]
  },
  {
   "cell_type": "code",
   "execution_count": 117,
   "metadata": {},
   "outputs": [
    {
     "data": {
      "text/plain": [
       "array([0.5, 0.5])"
      ]
     },
     "execution_count": 117,
     "metadata": {},
     "output_type": "execute_result"
    }
   ],
   "source": [
    "# selecting the neareast k neareast element [0:k]\n",
    "distances[ind[0:2]]"
   ]
  },
  {
   "cell_type": "code",
   "execution_count": 123,
   "metadata": {},
   "outputs": [
    {
     "data": {
      "text/plain": [
       "array([[2, 2],\n",
       "       [3, 2]])"
      ]
     },
     "execution_count": 123,
     "metadata": {},
     "output_type": "execute_result"
    }
   ],
   "source": [
    "def find_nearest_neighbours(p, points, k=5):\n",
    "    '''\n",
    "    Find the k nearest neighbors of point p and return their indices. \n",
    "    '''\n",
    "    distances = np.array([distance(p, points[i]) for i in range(points.shape[0])])\n",
    "    ind = np.argsort(distances)\n",
    "    return ind[:k]\n",
    "points[find_nearest_neighbours(p, points, 2)]"
   ]
  },
  {
   "cell_type": "code",
   "execution_count": 131,
   "metadata": {},
   "outputs": [
    {
     "data": {
      "text/plain": [
       "1"
      ]
     },
     "execution_count": 131,
     "metadata": {},
     "output_type": "execute_result"
    }
   ],
   "source": [
    "def knn_predict(p, points, outcomes, k=5):\n",
    "    ind = find_nearest_neighbours(p, points, k)\n",
    "    return majority_vote(outcomes[ind])\n",
    "\n",
    "# class 0,1\n",
    "outcomes = np.array([0,0,0,0,1,1,1,1,1])\n",
    "knn_predict(np.array([2.5,2.7]), points, outcomes, 2)"
   ]
  },
  {
   "cell_type": "code",
   "execution_count": 137,
   "metadata": {},
   "outputs": [
    {
     "data": {
      "text/plain": [
       "0"
      ]
     },
     "execution_count": 137,
     "metadata": {},
     "output_type": "execute_result"
    }
   ],
   "source": [
    "knn_predict(np.array([1.,2.7]), points, outcomes, 2)"
   ]
  }
 ],
 "metadata": {
  "kernelspec": {
   "display_name": "Python 3",
   "language": "python",
   "name": "python3"
  },
  "language_info": {
   "codemirror_mode": {
    "name": "ipython",
    "version": 3
   },
   "file_extension": ".py",
   "mimetype": "text/x-python",
   "name": "python",
   "nbconvert_exporter": "python",
   "pygments_lexer": "ipython3",
   "version": "3.6.5"
  }
 },
 "nbformat": 4,
 "nbformat_minor": 2
}
